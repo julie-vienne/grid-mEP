{
 "cells": [
  {
   "cell_type": "code",
   "execution_count": null,
   "id": "275c6b6b-5f2d-425f-ad84-0c4abf44d9a3",
   "metadata": {},
   "outputs": [],
   "source": [
    "# Energy Plus standard simulation\n",
    "import opyplus as op\n",
    "import os\n",
    "import pandas as pd"
   ]
  },
  {
   "cell_type": "code",
   "execution_count": null,
   "id": "4d2387ee-81ac-4b5d-9fcb-9e6c8dd6e073",
   "metadata": {
    "tags": []
   },
   "outputs": [],
   "source": [
    "# Get paths of the idf and epw files\n",
    "eplus_dir_path = op.get_eplus_base_dir_path((9, 6, 0))\n",
    "expidf_path = os.path.join(\"P8_files\", \"P8_new.idf\")\n",
    "epw_path = os.path.join(\"P8_files\", \"Zürich-hour.epw\")"
   ]
  },
  {
   "cell_type": "code",
   "execution_count": null,
   "id": "87c475b3-1738-4592-ace1-563f2599b89a",
   "metadata": {},
   "outputs": [],
   "source": [
    "# Load EnergyPlus Model\n",
    "epm = op.Epm.from_idf(expidf_path)"
   ]
  },
  {
   "cell_type": "code",
   "execution_count": null,
   "id": "15068500-bd35-4c06-854b-e29ac5b90959",
   "metadata": {
    "tags": []
   },
   "outputs": [],
   "source": [
    "# Define variable material - wall, ground and roof\n",
    "\n",
    "variable_insulation_wall = epm.Material.one(\"variable_insulation_wall\")\n",
    "variable_insulation_ground = epm.Material.one(\"variable_insulation_ground\")\n",
    "variable_insulation_roof = epm.Material.one(\"variable_insulation_roof\")\n",
    "\n",
    "print(variable_insulation_wall)\n",
    "print(variable_insulation_ground)\n",
    "print(variable_insulation_roof)"
   ]
  },
  {
   "cell_type": "code",
   "execution_count": null,
   "id": "663d6eef-cc08-4eb8-839b-ebf9b6f09e7e",
   "metadata": {
    "tags": []
   },
   "outputs": [],
   "source": [
    "# Import material properties form python file\n",
    "from materials import materials\n",
    "\n",
    "for name, material in materials.items():\n",
    "    print(name)\n",
    "    print(material)"
   ]
  },
  {
   "cell_type": "code",
   "execution_count": null,
   "id": "32cf8a7d-7c50-4930-a442-40474b88e1fd",
   "metadata": {
    "tags": []
   },
   "outputs": [],
   "source": [
    "# Change the variable materials and run the simulation for each material\n",
    "\n",
    "for name, material in materials.items():\n",
    "    variable_insulation_wall.thickness = material.thickness_wall\n",
    "    variable_insulation_ground.thickness = material.thickness_ground\n",
    "    variable_insulation_roof.thickness = material.thickness_roof\n",
    "    variable_insulation_wall.conductivity = material.conductivity\n",
    "    variable_insulation_ground.conductivity = material.conductivity\n",
    "    variable_insulation_roof.conductivity = material.conductivity\n",
    "    variable_insulation_wall.density = material.density\n",
    "    variable_insulation_ground.density = material.density\n",
    "    variable_insulation_roof.density = material.density\n",
    "    variable_insulation_wall.specific_heat = material.specific_heat\n",
    "    variable_insulation_ground.specific_heat = material.specific_heat\n",
    "    variable_insulation_roof.specific_heat = material.specific_heat\n",
    "    \n",
    "    # Run the simulation\n",
    "    folder_name = material.name + str(material.u_value)\n",
    "    simulation_results = op.simulate(expidf_path, epw_path, folder_name)\n",
    "    \n",
    "    # Save the new idf file\n",
    "    folder_name_idf = material.name + str(material.u_value) + \".idf\"\n",
    "    epm.save(folder_name+\"/\"+folder_name_idf)\n",
    " \n",
    "    # Print the summary table on site energy and envelope exterior\n",
    "    site_source_energy = simulation_results.get_out_summary_table().get_table_df(\n",
    "    report_key='Annual Building Utility Performance Summary_Entire Facility',\n",
    "    table_report='Site and Source Energy',\n",
    "    )\n",
    "    print(site_source_energy)\n",
    "    \n",
    "    envelope_summary_exterior = simulation_results.get_out_summary_table().get_table_df(\n",
    "    report_key='Envelope Summary_Entire Facility',\n",
    "    table_report='Opaque Exterior',\n",
    "    )\n",
    "    print(envelope_summary_exterior)\n",
    "    \n",
    "    # Calculcate volume of used materials\n",
    "    surface_variable_wall = 813.96\n",
    "    surface_variable_ground = 187.39\n",
    "    surface_variable_roof = 220.51\n",
    "    volume_variable_wall = surface_variable_wall*material.thickness_wall\n",
    "    volume_variable_ground = surface_variable_wall*material.thickness_ground\n",
    "    volume_variable_roof = surface_variable_wall*material.thickness_roof\n",
    "    \n",
    "    # Calculate embodied emissions\n",
    "    embodied_emissions_wall = volume_variable_wall*material.embodied_emissions\n",
    "    embodied_emissions_ground = volume_variable_wall*material.embodied_emissions\n",
    "    embodied_emissions_roof = volume_variable_wall*material.embodied_emissions\n",
    "    material.embodied_emissions_total = embodied_emissions_wall + embodied_emissions_ground + embodied_emissions_roof\n",
    "\n",
    "    # Calculate price\n",
    "    price_wall = volume_variable_wall*material.price_wall\n",
    "    price_ground = volume_variable_wall*material.price_ground\n",
    "    price_roof = volume_variable_wall*material.price_roof\n",
    "    material.price_total = price_wall + price_ground + price_roof\n",
    "    "
   ]
  },
  {
   "cell_type": "code",
   "execution_count": null,
   "id": "d4c94610-24c9-48ac-afe9-603611b1e7cd",
   "metadata": {
    "tags": []
   },
   "outputs": [],
   "source": [
    "# Print status of last simulation\n",
    "print(f\"status: {simulation_results.get_status()}\\n\")\n",
    "print(f\"Eplus .err file:\\n{simulation_results.get_out_err().get_content()}\")"
   ]
  },
  {
   "cell_type": "code",
   "execution_count": null,
   "id": "5b031c91-af39-4c58-a5d0-8cd0c9542823",
   "metadata": {},
   "outputs": [],
   "source": [
    "for name, material in materials.items():\n",
    "    print(name)\n",
    "    print('Total price: ', material.price_total)\n",
    "    print('Total embodied emissions: ', material.embodied_emissions_total)"
   ]
  }
 ],
 "metadata": {
  "kernelspec": {
   "display_name": "Python 3",
   "language": "python",
   "name": "python3"
  },
  "language_info": {
   "codemirror_mode": {
    "name": "ipython",
    "version": 3
   },
   "file_extension": ".py",
   "mimetype": "text/x-python",
   "name": "python",
   "nbconvert_exporter": "python",
   "pygments_lexer": "ipython3",
   "version": "3.8.8"
  }
 },
 "nbformat": 4,
 "nbformat_minor": 5
}
